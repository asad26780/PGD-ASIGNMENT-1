{
 "cells": [
  {
   "cell_type": "markdown",
   "id": "50bea43d",
   "metadata": {},
   "source": [
    "# Python String Concatenation and Formatting Assignments"
   ]
  },
  {
   "cell_type": "markdown",
   "id": "b6897214",
   "metadata": {},
   "source": [
    "Assignment 1: String Concatenation and Formatting\n",
    "\n",
    "Instruction:\n",
    "\n",
    "Create a variable `name` and assign your name to it.\n",
    "Create a variable `age` and assign your age to it.\n",
    "Create a variable `country` and assign your country of residence to it.\n",
    "Using the `+` operator, concatenate the variables to form a sentence in the following format: \"My name is `<name>`, I am `<age>` years old, and I live in `<country>`.\"\n",
    "Print the concatenated sentence.\n"
   ]
  },
  {
   "cell_type": "code",
   "execution_count": 11,
   "id": "71f62448",
   "metadata": {},
   "outputs": [
    {
     "name": "stdout",
     "output_type": "stream",
     "text": [
      "My name is Asad Ahmad,\n",
      "I am 31 years old,\n",
      "and I live in Pakistan.\n"
     ]
    }
   ],
   "source": [
    "name = \"Asad Ahmad\"\n",
    "age  = 31\n",
    "country = \"Pakistan\"\n",
    "sentence = \"My name is \" + name +\",\\nI am \" + str(age) +\" years old,\\nand I live in \"+(country)+\".\" \n",
    "\n",
    "print(sentence)"
   ]
  },
  {
   "cell_type": "markdown",
   "id": "09ddee56",
   "metadata": {},
   "source": [
    "Assignment 2: String Formatting using `.format()`\n",
    "\n",
    "Instructions:\n",
    "\n",
    "Create a variable `item` and assign a product name to it (e.g., \"laptop\", \"book\", \"phone\").\n",
    "Create a variable `price` and assign a price to the item.\n",
    "Create a variable `quantity` and assign a quantity value.\n",
    "Calculate the total cost using the formula: `total_cost = price * quantity`.\n",
    "Using the `.format()` method, create a formatted string: \"I bought `<quantity>` `<item>`(s) at `<price>` each, for a total of $`<total_cost>`.\"\n",
    "Print the formatted string."
   ]
  },
  {
   "cell_type": "code",
   "execution_count": 14,
   "id": "6c6ee891",
   "metadata": {},
   "outputs": [
    {
     "name": "stdout",
     "output_type": "stream",
     "text": [
      "I bought 3 Laptop(s) at 500 each, for a total of $1500.\n"
     ]
    }
   ],
   "source": [
    "item = \"Laptop\"\n",
    "price = 500\n",
    "quantity = 3\n",
    "total_cost = price * quantity\n",
    "formatted_string = \"I bought {} {}(s) at {} each, for a total of ${}.\".format(quantity,item,price,total_cost)\n",
    "\n",
    "print (formatted_string)"
   ]
  },
  {
   "cell_type": "markdown",
   "id": "7699003d",
   "metadata": {},
   "source": [
    "Assignment 3: String Interpolation using `f'\n",
    "\n",
    "Instructions:\n",
    "\n",
    "Create a variable `city` and assign the name of a city.\n",
    "Create a variable `temperature` and assign a temperature value in Celsius.\n",
    "Using `f''` string interpolation, create a string: \"The temperature in `<city>` is `<temperature>`°C.\"\n",
    "Print the interpolated string."
   ]
  },
  {
   "cell_type": "code",
   "execution_count": 19,
   "id": "75fc33da",
   "metadata": {},
   "outputs": [
    {
     "name": "stdout",
     "output_type": "stream",
     "text": [
      "The temperature in Lahore is 38°C.\n"
     ]
    }
   ],
   "source": [
    "city = \"Lahore\"\n",
    "temperature = 38\n",
    "comment = f\"The temperature in {city} is {temperature}°C.\"\n",
    "\n",
    "print(comment)"
   ]
  },
  {
   "cell_type": "markdown",
   "id": "75eaafd1",
   "metadata": {},
   "source": [
    "Assignment 4: String Formatting using `%()\n",
    "\n",
    "Instructions:\n",
    "\n",
    "1. Create a variable `first_name` and assign your first name to it.\n",
    "2. Create a variable `last_name` and assign your last name to it.\n",
    "3. Create a variable `birth_year` and assign your birth year.\n",
    "4. Calculate your age using the formula: `age = current_year - birth_year`, where `current_year` is the current year.\n",
    "5. Using `%()` string formatting, create a string: \"My name is %(first_name)s %(last_name)s. I am %(age)d years old.\"\n",
    "6. Print the formatted string.\n",
    "\n"
   ]
  },
  {
   "cell_type": "code",
   "execution_count": 30,
   "id": "04761f32",
   "metadata": {},
   "outputs": [
    {
     "name": "stdout",
     "output_type": "stream",
     "text": [
      "My name is Asad Ahmad.\n",
      " I am 31 years old.\n"
     ]
    }
   ],
   "source": [
    "first_name = \"Asad\"\n",
    "last_name  = \"Ahmad\"\n",
    "birth_year =  1992\n",
    "current_year = 2023\n",
    "age = current_year - birth_year\n",
    "\n",
    "formatted_string = \"My name is %s %s.\\n I am %d years old.\" % (first_name, last_name, age)\n",
    "\n",
    "print(formatted_string)"
   ]
  },
  {
   "cell_type": "markdown",
   "id": "12cfcc02",
   "metadata": {},
   "source": [
    "*Assignment 5: Combining Formatting Methods**\n",
    "\n",
    "**Instructions:**\n",
    "\n",
    "1. Create a variable `product` and assign a product name.\n",
    "2. Create a variable `discount` and assign a discount percentage.\n",
    "3. Create a variable `original_price` and assign an original price.\n",
    "4. Calculate the discounted price using the formula: `discounted_price = original_price * (1 - discount / 100)`.\n",
    "5. Using any combination of string formatting methods (`+`, `.format()`, `f''`, `%()`), create a descriptive string with the product name, original price, discount percentage, and discounted price.\n",
    "6. Print the descriptive string.\n"
   ]
  },
  {
   "cell_type": "code",
   "execution_count": 44,
   "id": "fa8aca4e",
   "metadata": {},
   "outputs": [
    {
     "name": "stdout",
     "output_type": "stream",
     "text": [
      "Product Name:\t\tCD 125 MotorBike\n",
      "original_price:\t\t234900 pkr \n",
      "discounted Price:\t229027.5 pkr \n"
     ]
    }
   ],
   "source": [
    "product = \"CD 125 MotorBike\"\n",
    "discount = 2.5\n",
    "original_price = 234900\n",
    "discounted_price = original_price*(1-discount/100) \n",
    "price = f\"Product Name:\\t\\t{product}\\noriginal_price:\\t\\t{original_price} pkr \\ndiscounted Price:\\t{discounted_price} pkr \"\n",
    "\n",
    "print(price)"
   ]
  }
 ],
 "metadata": {
  "kernelspec": {
   "display_name": "Python 3 (ipykernel)",
   "language": "python",
   "name": "python3"
  },
  "language_info": {
   "codemirror_mode": {
    "name": "ipython",
    "version": 3
   },
   "file_extension": ".py",
   "mimetype": "text/x-python",
   "name": "python",
   "nbconvert_exporter": "python",
   "pygments_lexer": "ipython3",
   "version": "3.11.3"
  }
 },
 "nbformat": 4,
 "nbformat_minor": 5
}
